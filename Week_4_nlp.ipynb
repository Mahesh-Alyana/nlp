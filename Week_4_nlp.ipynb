{
  "nbformat": 4,
  "nbformat_minor": 0,
  "metadata": {
    "colab": {
      "provenance": [],
      "authorship_tag": "ABX9TyPVoPG0M7RTv9RutPrvAHFK",
      "include_colab_link": true
    },
    "kernelspec": {
      "name": "python3",
      "display_name": "Python 3"
    },
    "language_info": {
      "name": "python"
    }
  },
  "cells": [
    {
      "cell_type": "markdown",
      "metadata": {
        "id": "view-in-github",
        "colab_type": "text"
      },
      "source": [
        "<a href=\"https://colab.research.google.com/github/akash1331/nlp/blob/main/Week_4_nlp.ipynb\" target=\"_parent\"><img src=\"https://colab.research.google.com/assets/colab-badge.svg\" alt=\"Open In Colab\"/></a>"
      ]
    },
    {
      "cell_type": "markdown",
      "source": [
        "### **WEEK 4**"
      ],
      "metadata": {
        "id": "9CVyV8VupAU9"
      }
    },
    {
      "cell_type": "code",
      "source": [
        "import nltk\n",
        "nltk.download('wordnet')"
      ],
      "metadata": {
        "colab": {
          "base_uri": "https://localhost:8080/"
        },
        "id": "o8E33m5VnVcJ",
        "outputId": "e73626db-cbea-4618-aca6-bc66bffbd34e"
      },
      "execution_count": 1,
      "outputs": [
        {
          "output_type": "stream",
          "name": "stderr",
          "text": [
            "[nltk_data] Downloading package wordnet to /root/nltk_data...\n",
            "[nltk_data]   Package wordnet is already up-to-date!\n"
          ]
        },
        {
          "output_type": "execute_result",
          "data": {
            "text/plain": [
              "True"
            ]
          },
          "metadata": {},
          "execution_count": 1
        }
      ]
    },
    {
      "cell_type": "markdown",
      "source": [
        "Difference between Stemmer and Lemmatizer"
      ],
      "metadata": {
        "id": "Kcxh7pEBn5cQ"
      }
    },
    {
      "cell_type": "code",
      "execution_count": 2,
      "metadata": {
        "colab": {
          "base_uri": "https://localhost:8080/"
        },
        "id": "vYeB66N3lgbX",
        "outputId": "e0828510-1364-4b75-c93a-4d864b77447a"
      },
      "outputs": [
        {
          "output_type": "stream",
          "name": "stdout",
          "text": [
            "studi\n"
          ]
        }
      ],
      "source": [
        "from nltk.stem import PorterStemmer\n",
        "stemmer  = PorterStemmer()\n",
        "print(stemmer.stem(\"studies\"))"
      ]
    },
    {
      "cell_type": "code",
      "source": [
        "from nltk.stem import WordNetLemmatizer\n",
        "lemmatizer = WordNetLemmatizer()\n",
        "print(lemmatizer.lemmatize('studies'))"
      ],
      "metadata": {
        "colab": {
          "base_uri": "https://localhost:8080/"
        },
        "id": "fo1qaMnYm6n5",
        "outputId": "46c2317b-278a-47b8-cfe2-cf56b40ec691"
      },
      "execution_count": 3,
      "outputs": [
        {
          "output_type": "stream",
          "name": "stdout",
          "text": [
            "study\n"
          ]
        }
      ]
    },
    {
      "cell_type": "markdown",
      "source": [
        "Basic example of working of a Lemmatizer"
      ],
      "metadata": {
        "id": "UDSjJsJfnx3T"
      }
    },
    {
      "cell_type": "code",
      "source": [
        "from nltk import WordNetLemmatizer\n",
        "\n",
        "lemma = WordNetLemmatizer()\n",
        "word_list = [\"Study\",\"Studying\",\"Studies\",\"Studied\"]\n",
        "\n",
        "for w in word_list:\n",
        "  print(lemma.lemmatize(w,pos='v'))"
      ],
      "metadata": {
        "colab": {
          "base_uri": "https://localhost:8080/"
        },
        "id": "c6GPMiNPnBxf",
        "outputId": "aae683be-32a6-461d-a7cd-c6e1059ccf0f"
      },
      "execution_count": 4,
      "outputs": [
        {
          "output_type": "stream",
          "name": "stdout",
          "text": [
            "Study\n",
            "Studying\n",
            "Studies\n",
            "Studied\n"
          ]
        }
      ]
    },
    {
      "cell_type": "markdown",
      "source": [
        "Lemmatizer with default PoS value"
      ],
      "metadata": {
        "id": "eIa-ViRsn_u_"
      }
    },
    {
      "cell_type": "code",
      "source": [
        "from nltk import WordNetLemmatizer\n",
        "\n",
        "lemma = WordNetLemmatizer()\n",
        "word_list = [\"studies\",\"leaves\",\"decreases\",\"plays\"]\n",
        "\n",
        "for w in word_list:\n",
        "  print(lemma.lemmatize(w))"
      ],
      "metadata": {
        "colab": {
          "base_uri": "https://localhost:8080/"
        },
        "id": "8VlSRgPenFKR",
        "outputId": "e1e3fd68-b13d-4ca3-e139-338799c8ae03"
      },
      "execution_count": 5,
      "outputs": [
        {
          "output_type": "stream",
          "name": "stdout",
          "text": [
            "study\n",
            "leaf\n",
            "decrease\n",
            "play\n"
          ]
        }
      ]
    },
    {
      "cell_type": "markdown",
      "source": [
        "Another example demonstrating the power of lemmatizer"
      ],
      "metadata": {
        "id": "81ZW7ZW3oWPQ"
      }
    },
    {
      "cell_type": "code",
      "source": [
        "from nltk import WordNetLemmatizer\n",
        "lemma = WordNetLemmatizer()\n",
        "word_list = [\"am\",\"is\",\"are\",\"was\",\"were\"]\n",
        "\n",
        "for w in word_list:\n",
        "  print(lemma.lemmatize(w,pos=\"v\"))"
      ],
      "metadata": {
        "colab": {
          "base_uri": "https://localhost:8080/"
        },
        "id": "Zc8eGRnnoSmY",
        "outputId": "a36eadc1-f348-49b5-8063-d56e219744b7"
      },
      "execution_count": 6,
      "outputs": [
        {
          "output_type": "stream",
          "name": "stdout",
          "text": [
            "be\n",
            "be\n",
            "be\n",
            "be\n",
            "be\n"
          ]
        }
      ]
    },
    {
      "cell_type": "markdown",
      "source": [
        "Lemmatizer with differenet POS values"
      ],
      "metadata": {
        "id": "czEA_Ay_osWV"
      }
    },
    {
      "cell_type": "code",
      "source": [
        "from nltk.stem import WordNetLemmatizer\n",
        "\n",
        "lemmatizer = WordNetLemmatizer()\n",
        "print(lemmatizer.lemmatize('studying',pos=\"v\"))\n",
        "print(lemmatizer.lemmatize('studying',pos=\"n\"))\n",
        "print(lemmatizer.lemmatize('studying',pos=\"a\"))\n",
        "print(lemmatizer.lemmatize('studying',pos=\"r\"))"
      ],
      "metadata": {
        "colab": {
          "base_uri": "https://localhost:8080/"
        },
        "id": "vFja4dOToqrA",
        "outputId": "1a08a27d-8576-4cac-d1ad-225bf372e137"
      },
      "execution_count": 7,
      "outputs": [
        {
          "output_type": "stream",
          "name": "stdout",
          "text": [
            "study\n",
            "studying\n",
            "studying\n",
            "studying\n"
          ]
        }
      ]
    }
  ]
}