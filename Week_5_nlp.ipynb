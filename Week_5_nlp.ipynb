{
  "nbformat": 4,
  "nbformat_minor": 0,
  "metadata": {
    "colab": {
      "provenance": [],
      "authorship_tag": "ABX9TyMlTYh4616FZVqb5+Fp4jah",
      "include_colab_link": true
    },
    "kernelspec": {
      "name": "python3",
      "display_name": "Python 3"
    },
    "language_info": {
      "name": "python"
    }
  },
  "cells": [
    {
      "cell_type": "markdown",
      "metadata": {
        "id": "view-in-github",
        "colab_type": "text"
      },
      "source": [
        "<a href=\"https://colab.research.google.com/github/akash1331/nlp/blob/main/Week_5_nlp.ipynb\" target=\"_parent\"><img src=\"https://colab.research.google.com/assets/colab-badge.svg\" alt=\"Open In Colab\"/></a>"
      ]
    },
    {
      "cell_type": "markdown",
      "source": [
        "# **WEEK 5: PoS Tagging with all PoS Tags**\n",
        "\n"
      ],
      "metadata": {
        "id": "vsCbfPGJqE7F"
      }
    },
    {
      "cell_type": "markdown",
      "source": [
        "A simple example demostrating PoS tagging"
      ],
      "metadata": {
        "id": "31fItnfMqReD"
      }
    },
    {
      "cell_type": "code",
      "source": [
        "import nltk\n",
        "nltk.download('averaged_perceptron_tagger')"
      ],
      "metadata": {
        "colab": {
          "base_uri": "https://localhost:8080/"
        },
        "id": "kRStO0YxqZpM",
        "outputId": "2e1fb917-38b4-4861-cd6c-acc99ff3518b"
      },
      "execution_count": 3,
      "outputs": [
        {
          "output_type": "stream",
          "name": "stderr",
          "text": [
            "[nltk_data] Downloading package averaged_perceptron_tagger to\n",
            "[nltk_data]     /root/nltk_data...\n",
            "[nltk_data]   Unzipping taggers/averaged_perceptron_tagger.zip.\n"
          ]
        },
        {
          "output_type": "execute_result",
          "data": {
            "text/plain": [
              "True"
            ]
          },
          "metadata": {},
          "execution_count": 3
        }
      ]
    },
    {
      "cell_type": "code",
      "execution_count": 4,
      "metadata": {
        "colab": {
          "base_uri": "https://localhost:8080/"
        },
        "id": "toK7ycvIqEIH",
        "outputId": "ab63ce70-fc63-477b-d39c-69e3ec98b708"
      },
      "outputs": [
        {
          "output_type": "stream",
          "name": "stdout",
          "text": [
            "[('Studying', 'VBG'), ('Study', 'NN')]\n"
          ]
        }
      ],
      "source": [
        "#PoS tagging:\n",
        "\n",
        "tag = nltk.pos_tag([\"Studying\",\"Study\"])\n",
        "print(tag)"
      ]
    },
    {
      "cell_type": "markdown",
      "source": [
        "Demonstrating the PoS tagging"
      ],
      "metadata": {
        "id": "NPECOkmjqft1"
      }
    },
    {
      "cell_type": "code",
      "source": [
        "import nltk\n",
        "nltk.download('punkt')\n",
        "from nltk.tokenize import word_tokenize\n",
        "\n",
        "#PoS tagging example:\n",
        "sentence = \"Valorant is a free-to-play first-person tactical hero shooter developed and published by Riot Games, for Windows.\"\n",
        "\n",
        "# tokenzing words:\n",
        "tokenized_words = word_tokenize(sentence)\n",
        "\n",
        "for words in tokenized_words:\n",
        "  tagged_words = nltk.pos_tag(tokenized_words)\n",
        "tagged_words"
      ],
      "metadata": {
        "colab": {
          "base_uri": "https://localhost:8080/"
        },
        "id": "6ijY2osTqemp",
        "outputId": "ac5335bc-0d7f-4726-bbe4-e8057d975bff"
      },
      "execution_count": 7,
      "outputs": [
        {
          "output_type": "stream",
          "name": "stderr",
          "text": [
            "[nltk_data] Downloading package punkt to /root/nltk_data...\n",
            "[nltk_data]   Unzipping tokenizers/punkt.zip.\n"
          ]
        },
        {
          "output_type": "execute_result",
          "data": {
            "text/plain": [
              "[('Valorant', 'NNP'),\n",
              " ('is', 'VBZ'),\n",
              " ('a', 'DT'),\n",
              " ('free-to-play', 'JJ'),\n",
              " ('first-person', 'JJ'),\n",
              " ('tactical', 'JJ'),\n",
              " ('hero', 'NN'),\n",
              " ('shooter', 'NN'),\n",
              " ('developed', 'VBD'),\n",
              " ('and', 'CC'),\n",
              " ('published', 'VBN'),\n",
              " ('by', 'IN'),\n",
              " ('Riot', 'NNP'),\n",
              " ('Games', 'NNP'),\n",
              " (',', ','),\n",
              " ('for', 'IN'),\n",
              " ('Windows', 'NNP'),\n",
              " ('.', '.')]"
            ]
          },
          "metadata": {},
          "execution_count": 7
        }
      ]
    }
  ]
}