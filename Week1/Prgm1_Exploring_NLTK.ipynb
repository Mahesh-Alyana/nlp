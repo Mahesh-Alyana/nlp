{
  "cells": [
    {
      "cell_type": "markdown",
      "metadata": {
        "colab_type": "text",
        "id": "view-in-github"
      },
      "source": [
        "<a href=\"https://colab.research.google.com/github/akash1331/nlp/blob/main/Week1/Prgm1_Exploring_NLTK.ipynb\" target=\"_parent\"><img src=\"https://colab.research.google.com/assets/colab-badge.svg\" alt=\"Open In Colab\"/></a>"
      ]
    },
    {
      "cell_type": "markdown",
      "metadata": {
        "id": "uWMSLKxqZmVB"
      },
      "source": [
        "**Open the Text File for Processing**"
      ]
    },
    {
      "cell_type": "code",
      "execution_count": 1,
      "metadata": {
        "colab": {
          "base_uri": "https://localhost:8080/"
        },
        "id": "EtxN3KW0YOKw",
        "outputId": "a1d6dcf4-a78d-4c75-f71d-c0cafec256a7"
      },
      "outputs": [
        {
          "name": "stdout",
          "output_type": "stream",
          "text": [
            "<class 'str'>\n",
            "\n",
            "\n",
            "Riot Games, Inc. is an American video game developer, publisher and esports tournament organizer based in Los Angeles, California.\n",
            "It was founded in September 2006 by Brandon Beck and Marc Merrill to develop League of Legends and went on to develop several spin-off games and the unrelated first-person shooter game Valorant.\n",
            "In 2011, Riot Games was acquired by Chinese conglomerate Tencent.\n",
            "Riot Games' publishing arm, Riot Forge, oversees the production of League of Legends spin-offs by other developers.\n",
            "The company worked with Fortiche to release Arcane, a television series based on the League of Legends universe.\n",
            "Riot Games operates 12 international League of Legends esports leagues, the League of Legends World Championship and the Valorant Champions Tour.\n",
            "The company, which had 24 offices worldwide as of 2018, sells corporate sponsorships, merchandise, and streaming rights for its leagues.\n",
            "Riot has faced allegations and lawsuits claiming a toxic workplace culture, including gender discrimination and sexual harassment.\n",
            "The company was criticized for its use of forced arbitration in response to these allegations.\n",
            "\n",
            "\n",
            "1129\n"
          ]
        }
      ],
      "source": [
        "text_file = open (\"riotgames.txt\")\n",
        "text = text_file.read()\n",
        "print(type(text))\n",
        "print(\"\\n\")\n",
        "print(text)\n",
        "print(\"\\n\")\n",
        "print(len(text))\n",
        "\n"
      ]
    },
    {
      "cell_type": "markdown",
      "metadata": {
        "id": "fZkSyaglbGB5"
      },
      "source": [
        "**Import Required Libraries**"
      ]
    },
    {
      "cell_type": "code",
      "execution_count": 2,
      "metadata": {
        "colab": {
          "base_uri": "https://localhost:8080/"
        },
        "id": "8kMwV0qNa_hp",
        "outputId": "96c0c1a7-8126-4172-8458-873377a98bf0"
      },
      "outputs": [
        {
          "name": "stderr",
          "output_type": "stream",
          "text": [
            "[nltk_data] Downloading package punkt to\n",
            "[nltk_data]     C:\\Users\\akash\\AppData\\Roaming\\nltk_data...\n",
            "[nltk_data]   Package punkt is already up-to-date!\n"
          ]
        }
      ],
      "source": [
        "import nltk\n",
        "nltk.download('punkt')\n",
        "from nltk import sent_tokenize\n",
        "from nltk import word_tokenize"
      ]
    },
    {
      "cell_type": "markdown",
      "metadata": {
        "id": "r5vjqN7jbUnI"
      },
      "source": [
        "Sentence Tokenizing"
      ]
    },
    {
      "cell_type": "code",
      "execution_count": 3,
      "metadata": {
        "colab": {
          "base_uri": "https://localhost:8080/"
        },
        "id": "rHbgS2HPbX7o",
        "outputId": "5990e80a-eaba-40e4-9692-604cde7ac83e"
      },
      "outputs": [
        {
          "name": "stdout",
          "output_type": "stream",
          "text": [
            "9\n"
          ]
        },
        {
          "data": {
            "text/plain": [
              "['Riot Games, Inc. is an American video game developer, publisher and esports tournament organizer based in Los Angeles, California.',\n",
              " 'It was founded in September 2006 by Brandon Beck and Marc Merrill to develop League of Legends and went on to develop several spin-off games and the unrelated first-person shooter game Valorant.',\n",
              " 'In 2011, Riot Games was acquired by Chinese conglomerate Tencent.',\n",
              " \"Riot Games' publishing arm, Riot Forge, oversees the production of League of Legends spin-offs by other developers.\",\n",
              " 'The company worked with Fortiche to release Arcane, a television series based on the League of Legends universe.',\n",
              " 'Riot Games operates 12 international League of Legends esports leagues, the League of Legends World Championship and the Valorant Champions Tour.',\n",
              " 'The company, which had 24 offices worldwide as of 2018, sells corporate sponsorships, merchandise, and streaming rights for its leagues.',\n",
              " 'Riot has faced allegations and lawsuits claiming a toxic workplace culture, including gender discrimination and sexual harassment.',\n",
              " 'The company was criticized for its use of forced arbitration in response to these allegations.']"
            ]
          },
          "execution_count": 3,
          "metadata": {},
          "output_type": "execute_result"
        }
      ],
      "source": [
        "sentences = sent_tokenize(text)\n",
        "print(len(sentences))\n",
        "sentences"
      ]
    },
    {
      "cell_type": "markdown",
      "metadata": {
        "id": "oyUd1X9Bb5Jx"
      },
      "source": [
        "Word Tokenizing"
      ]
    },
    {
      "cell_type": "code",
      "execution_count": 4,
      "metadata": {
        "colab": {
          "base_uri": "https://localhost:8080/"
        },
        "id": "mNIYEAH-beR0",
        "outputId": "fbd2f9f0-48be-45cc-84ab-a41288577e5d"
      },
      "outputs": [
        {
          "name": "stdout",
          "output_type": "stream",
          "text": [
            "192\n",
            "['Riot', 'Games', ',', 'Inc.', 'is', 'an', 'American', 'video', 'game', 'developer', ',', 'publisher', 'and', 'esports', 'tournament', 'organizer', 'based', 'in', 'Los', 'Angeles', ',', 'California', '.', 'It', 'was', 'founded', 'in', 'September', '2006', 'by', 'Brandon', 'Beck', 'and', 'Marc', 'Merrill', 'to', 'develop', 'League', 'of', 'Legends', 'and', 'went', 'on', 'to', 'develop', 'several', 'spin-off', 'games', 'and', 'the', 'unrelated', 'first-person', 'shooter', 'game', 'Valorant', '.', 'In', '2011', ',', 'Riot', 'Games', 'was', 'acquired', 'by', 'Chinese', 'conglomerate', 'Tencent', '.', 'Riot', 'Games', \"'\", 'publishing', 'arm', ',', 'Riot', 'Forge', ',', 'oversees', 'the', 'production', 'of', 'League', 'of', 'Legends', 'spin-offs', 'by', 'other', 'developers', '.', 'The', 'company', 'worked', 'with', 'Fortiche', 'to', 'release', 'Arcane', ',', 'a', 'television', 'series', 'based', 'on', 'the', 'League', 'of', 'Legends', 'universe', '.', 'Riot', 'Games', 'operates', '12', 'international', 'League', 'of', 'Legends', 'esports', 'leagues', ',', 'the', 'League', 'of', 'Legends', 'World', 'Championship', 'and', 'the', 'Valorant', 'Champions', 'Tour', '.', 'The', 'company', ',', 'which', 'had', '24', 'offices', 'worldwide', 'as', 'of', '2018', ',', 'sells', 'corporate', 'sponsorships', ',', 'merchandise', ',', 'and', 'streaming', 'rights', 'for', 'its', 'leagues', '.', 'Riot', 'has', 'faced', 'allegations', 'and', 'lawsuits', 'claiming', 'a', 'toxic', 'workplace', 'culture', ',', 'including', 'gender', 'discrimination', 'and', 'sexual', 'harassment', '.', 'The', 'company', 'was', 'criticized', 'for', 'its', 'use', 'of', 'forced', 'arbitration', 'in', 'response', 'to', 'these', 'allegations', '.']\n"
          ]
        }
      ],
      "source": [
        "words = word_tokenize(text)\n",
        "print(len(words))\n",
        "print (words)"
      ]
    },
    {
      "cell_type": "markdown",
      "metadata": {
        "id": "HKzRtUa1csH5"
      },
      "source": [
        "Find the Frequency Distribution"
      ]
    },
    {
      "cell_type": "code",
      "execution_count": 5,
      "metadata": {
        "colab": {
          "base_uri": "https://localhost:8080/"
        },
        "id": "pDw3jMPkcLuB",
        "outputId": "a063c9c5-1a88-447a-ad48-5469b621887a"
      },
      "outputs": [
        {
          "data": {
            "text/plain": [
              "[(',', 13),\n",
              " ('.', 9),\n",
              " ('and', 8),\n",
              " ('of', 8),\n",
              " ('Riot', 6),\n",
              " ('League', 5),\n",
              " ('Legends', 5),\n",
              " ('the', 5),\n",
              " ('Games', 4),\n",
              " ('to', 4)]"
            ]
          },
          "execution_count": 5,
          "metadata": {},
          "output_type": "execute_result"
        }
      ],
      "source": [
        "from nltk.probability import FreqDist\n",
        "fDist = FreqDist(words)\n",
        "fDist.most_common(10)"
      ]
    },
    {
      "cell_type": "markdown",
      "metadata": {
        "id": "acTEfw9pcwNo"
      },
      "source": [
        "Plot the Frequency Graph"
      ]
    },
    {
      "cell_type": "code",
      "execution_count": 6,
      "metadata": {
        "colab": {
          "base_uri": "https://localhost:8080/",
          "height": 328
        },
        "id": "1RMlOk3DcqBQ",
        "outputId": "909601a3-e810-48e6-990e-48936b39dd00"
      },
      "outputs": [
        {
          "data": {
            "image/png": "[encoded data removed]",
            "text/plain": [
              "<Figure size 432x288 with 1 Axes>"
            ]
          },
          "metadata": {
            "needs_background": "light"
          },
          "output_type": "display_data"
        },
        {
          "data": {
            "text/plain": [
              "<AxesSubplot:xlabel='Samples', ylabel='Counts'>"
            ]
          },
          "execution_count": 6,
          "metadata": {},
          "output_type": "execute_result"
        }
      ],
      "source": [
        "import matplotlib.pyplot as plt\n",
        "fDist.plot(10)"
      ]
    },
    {
      "cell_type": "markdown",
      "metadata": {
        "id": "5E5aXm-Mdb1I"
      },
      "source": [
        "Remove Punctuation **Marks** \n"
      ]
    },
    {
      "cell_type": "code",
      "execution_count": 7,
      "metadata": {
        "colab": {
          "base_uri": "https://localhost:8080/"
        },
        "id": "JZDa8LF3dnSu",
        "outputId": "b6eccbd0-7f54-436c-9828-00f5a837f604"
      },
      "outputs": [
        {
          "name": "stdout",
          "output_type": "stream",
          "text": [
            "['riot', 'games', 'is', 'an', 'american', 'video', 'game', 'developer', 'publisher', 'and', 'esports', 'tournament', 'organizer', 'based', 'in', 'los', 'angeles', 'california', 'it', 'was', 'founded', 'in', 'september', 'by', 'brandon', 'beck', 'and', 'marc', 'merrill', 'to', 'develop', 'league', 'of', 'legends', 'and', 'went', 'on', 'to', 'develop', 'several', 'games', 'and', 'the', 'unrelated', 'shooter', 'game', 'valorant', 'in', 'riot', 'games', 'was', 'acquired', 'by', 'chinese', 'conglomerate', 'tencent', 'riot', 'games', 'publishing', 'arm', 'riot', 'forge', 'oversees', 'the', 'production', 'of', 'league', 'of', 'legends', 'by', 'other', 'developers', 'the', 'company', 'worked', 'with', 'fortiche', 'to', 'release', 'arcane', 'a', 'television', 'series', 'based', 'on', 'the', 'league', 'of', 'legends', 'universe', 'riot', 'games', 'operates', 'international', 'league', 'of', 'legends', 'esports', 'leagues', 'the', 'league', 'of', 'legends', 'world', 'championship', 'and', 'the', 'valorant', 'champions', 'tour', 'the', 'company', 'which', 'had', 'offices', 'worldwide', 'as', 'of', 'sells', 'corporate', 'sponsorships', 'merchandise', 'and', 'streaming', 'rights', 'for', 'its', 'leagues', 'riot', 'has', 'faced', 'allegations', 'and', 'lawsuits', 'claiming', 'a', 'toxic', 'workplace', 'culture', 'including', 'gender', 'discrimination', 'and', 'sexual', 'harassment', 'the', 'company', 'was', 'criticized', 'for', 'its', 'use', 'of', 'forced', 'arbitration', 'in', 'response', 'to', 'these', 'allegations']\n",
            "\n",
            "\n",
            "160\n"
          ]
        }
      ],
      "source": [
        "words_no_punc = []\n",
        "for w in words:\n",
        "  if w.isalpha():\n",
        "    words_no_punc.append(w.lower())\n",
        "print (words_no_punc)\n",
        "print(\"\\n\")\n",
        "print(len(words_no_punc))\n"
      ]
    },
    {
      "cell_type": "markdown",
      "metadata": {
        "id": "_8Lo85dueG0Z"
      },
      "source": [
        "Plotting Graph without Punctuation **Marks**"
      ]
    },
    {
      "cell_type": "code",
      "execution_count": 8,
      "metadata": {
        "colab": {
          "base_uri": "https://localhost:8080/"
        },
        "id": "_NzGaMyVeQ98",
        "outputId": "c8e51cbd-441d-4668-f1a1-682070986d29"
      },
      "outputs": [
        {
          "data": {
            "text/plain": [
              "[('and', 8),\n",
              " ('of', 8),\n",
              " ('the', 8),\n",
              " ('riot', 6),\n",
              " ('games', 5),\n",
              " ('league', 5),\n",
              " ('legends', 5),\n",
              " ('in', 4),\n",
              " ('to', 4),\n",
              " ('was', 3)]"
            ]
          },
          "execution_count": 8,
          "metadata": {},
          "output_type": "execute_result"
        }
      ],
      "source": [
        "fDist = FreqDist(words_no_punc)\n",
        "fDist.most_common(10)"
      ]
    },
    {
      "cell_type": "code",
      "execution_count": 9,
      "metadata": {
        "colab": {
          "base_uri": "https://localhost:8080/",
          "height": 326
        },
        "id": "eB60a_TEedlO",
        "outputId": "db0daab3-809d-4741-9df5-8d52ea6f9151"
      },
      "outputs": [
        {
          "data": {
            "image/png": "[encoded data removed]",
            "text/plain": [
              "<Figure size 432x288 with 1 Axes>"
            ]
          },
          "metadata": {
            "needs_background": "light"
          },
          "output_type": "display_data"
        },
        {
          "data": {
            "text/plain": [
              "<AxesSubplot:xlabel='Samples', ylabel='Counts'>"
            ]
          },
          "execution_count": 9,
          "metadata": {},
          "output_type": "execute_result"
        }
      ],
      "source": [
        "fDist.plot(10)"
      ]
    },
    {
      "cell_type": "markdown",
      "metadata": {
        "id": "Cakr1LpuepQC"
      },
      "source": [
        "**List of stopwords and Removing Stop Words**"
      ]
    },
    {
      "cell_type": "code",
      "execution_count": 10,
      "metadata": {
        "colab": {
          "base_uri": "https://localhost:8080/"
        },
        "id": "qOZZ6LOLa-Uj",
        "outputId": "bd17693f-74f4-4533-ad67-4f33b8395319"
      },
      "outputs": [
        {
          "name": "stderr",
          "output_type": "stream",
          "text": [
            "[nltk_data] Downloading package stopwords to\n",
            "[nltk_data]     C:\\Users\\akash\\AppData\\Roaming\\nltk_data...\n",
            "[nltk_data]   Package stopwords is already up-to-date!\n"
          ]
        }
      ],
      "source": [
        "import nltk\n",
        "nltk.download('stopwords')\n",
        "from nltk.corpus import stopwords"
      ]
    },
    {
      "cell_type": "code",
      "execution_count": 11,
      "metadata": {
        "colab": {
          "base_uri": "https://localhost:8080/"
        },
        "id": "2QL-CZZIerRY",
        "outputId": "2cbfe50a-8fda-4be0-8dae-0998adc2e140"
      },
      "outputs": [
        {
          "name": "stdout",
          "output_type": "stream",
          "text": [
            "['i', 'me', 'my', 'myself', 'we', 'our', 'ours', 'ourselves', 'you', \"you're\", \"you've\", \"you'll\", \"you'd\", 'your', 'yours', 'yourself', 'yourselves', 'he', 'him', 'his', 'himself', 'she', \"she's\", 'her', 'hers', 'herself', 'it', \"it's\", 'its', 'itself', 'they', 'them', 'their', 'theirs', 'themselves', 'what', 'which', 'who', 'whom', 'this', 'that', \"that'll\", 'these', 'those', 'am', 'is', 'are', 'was', 'were', 'be', 'been', 'being', 'have', 'has', 'had', 'having', 'do', 'does', 'did', 'doing', 'a', 'an', 'the', 'and', 'but', 'if', 'or', 'because', 'as', 'until', 'while', 'of', 'at', 'by', 'for', 'with', 'about', 'against', 'between', 'into', 'through', 'during', 'before', 'after', 'above', 'below', 'to', 'from', 'up', 'down', 'in', 'out', 'on', 'off', 'over', 'under', 'again', 'further', 'then', 'once', 'here', 'there', 'when', 'where', 'why', 'how', 'all', 'any', 'both', 'each', 'few', 'more', 'most', 'other', 'some', 'such', 'no', 'nor', 'not', 'only', 'own', 'same', 'so', 'than', 'too', 'very', 's', 't', 'can', 'will', 'just', 'don', \"don't\", 'should', \"should've\", 'now', 'd', 'll', 'm', 'o', 're', 've', 'y', 'ain', 'aren', \"aren't\", 'couldn', \"couldn't\", 'didn', \"didn't\", 'doesn', \"doesn't\", 'hadn', \"hadn't\", 'hasn', \"hasn't\", 'haven', \"haven't\", 'isn', \"isn't\", 'ma', 'mightn', \"mightn't\", 'mustn', \"mustn't\", 'needn', \"needn't\", 'shan', \"shan't\", 'shouldn', \"shouldn't\", 'wasn', \"wasn't\", 'weren', \"weren't\", 'won', \"won't\", 'wouldn', \"wouldn't\"]\n",
            "['riot', 'games', 'american', 'video', 'game', 'developer', 'publisher', 'esports', 'tournament', 'organizer', 'based', 'los', 'angeles', 'california', 'founded', 'september', 'brandon', 'beck', 'marc', 'merrill', 'develop', 'league', 'legends', 'went', 'develop', 'several', 'games', 'unrelated', 'shooter', 'game', 'valorant', 'riot', 'games', 'acquired', 'chinese', 'conglomerate', 'tencent', 'riot', 'games', 'publishing', 'arm', 'riot', 'forge', 'oversees', 'production', 'league', 'legends', 'developers', 'company', 'worked', 'fortiche', 'release', 'arcane', 'television', 'series', 'based', 'league', 'legends', 'universe', 'riot', 'games', 'operates', 'international', 'league', 'legends', 'esports', 'leagues', 'league', 'legends', 'world', 'championship', 'valorant', 'champions', 'tour', 'company', 'offices', 'worldwide', 'sells', 'corporate', 'sponsorships', 'merchandise', 'streaming', 'rights', 'leagues', 'riot', 'faced', 'allegations', 'lawsuits', 'claiming', 'toxic', 'workplace', 'culture', 'including', 'gender', 'discrimination', 'sexual', 'harassment', 'company', 'criticized', 'use', 'forced', 'arbitration', 'response', 'allegations']\n",
            "\n",
            "\n",
            "104\n"
          ]
        }
      ],
      "source": [
        "stopwords=stopwords.words(\"english\")\n",
        "print (stopwords)\n",
        "\n",
        "\n",
        "clean_words = []\n",
        "for w in words_no_punc:\n",
        "  if w not in stopwords:\n",
        "    clean_words.append(w)\n",
        "print(clean_words)\n",
        "print(\"\\n\")\n",
        "print(len(clean_words))\n"
      ]
    },
    {
      "cell_type": "markdown",
      "metadata": {
        "id": "nODW3evmsWot"
      },
      "source": [
        "**Final Frequency Distribution**"
      ]
    },
    {
      "cell_type": "code",
      "execution_count": 12,
      "metadata": {
        "colab": {
          "base_uri": "https://localhost:8080/"
        },
        "id": "g3gNX1-rfxGZ",
        "outputId": "1d978dcc-455c-4c4a-8cb2-9ba772e2fac3"
      },
      "outputs": [
        {
          "data": {
            "text/plain": [
              "[('riot', 6),\n",
              " ('games', 5),\n",
              " ('league', 5),\n",
              " ('legends', 5),\n",
              " ('company', 3),\n",
              " ('game', 2),\n",
              " ('esports', 2),\n",
              " ('based', 2),\n",
              " ('develop', 2),\n",
              " ('valorant', 2)]"
            ]
          },
          "execution_count": 12,
          "metadata": {},
          "output_type": "execute_result"
        }
      ],
      "source": [
        "fDist = FreqDist(clean_words)\n",
        "fDist.most_common(10)\n"
      ]
    },
    {
      "cell_type": "code",
      "execution_count": 13,
      "metadata": {
        "colab": {
          "base_uri": "https://localhost:8080/",
          "height": 332
        },
        "id": "VMTlppzhgCaQ",
        "outputId": "dc6e8fbb-16fd-4fc4-9f2d-51758b09f723"
      },
      "outputs": [
        {
          "data": {
            "image/png": "[encoded data removed]",
            "text/plain": [
              "<Figure size 432x288 with 1 Axes>"
            ]
          },
          "metadata": {
            "needs_background": "light"
          },
          "output_type": "display_data"
        },
        {
          "data": {
            "text/plain": [
              "<AxesSubplot:xlabel='Samples', ylabel='Counts'>"
            ]
          },
          "execution_count": 13,
          "metadata": {},
          "output_type": "execute_result"
        }
      ],
      "source": [
        "fDist.plot(10)"
      ]
    },
    {
      "cell_type": "markdown",
      "metadata": {
        "id": "0UwqQkPIgFnG"
      },
      "source": [
        "**Edited by Srilakshmi V**"
      ]
    }
  ],
  "metadata": {
    "accelerator": "GPU",
    "colab": {
      "include_colab_link": true,
      "provenance": []
    },
    "gpuClass": "standard",
    "kernelspec": {
      "display_name": "Python 3",
      "language": "python",
      "name": "python3"
    },
    "language_info": {
      "codemirror_mode": {
        "name": "ipython",
        "version": 3
      },
      "file_extension": ".py",
      "mimetype": "text/x-python",
      "name": "python",
      "nbconvert_exporter": "python",
      "pygments_lexer": "ipython3",
      "version": "3.9.7"
    },
    "vscode": {
      "interpreter": {
        "hash": "8bd2466231e41ed14114f2b409d9719ddb015392667fe5003083bc13ae641016"
      }
    }
  },
  "nbformat": 4,
  "nbformat_minor": 0
}
