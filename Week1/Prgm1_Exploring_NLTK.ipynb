{
  "nbformat": 4,
  "nbformat_minor": 0,
  "metadata": {
    "colab": {
      "provenance": [],
      "include_colab_link": true
    },
    "kernelspec": {
      "name": "python3",
      "display_name": "Python 3"
    },
    "language_info": {
      "name": "python"
    },
    "accelerator": "GPU",
    "gpuClass": "standard"
  },
  "cells": [
    {
      "cell_type": "markdown",
      "metadata": {
        "id": "view-in-github",
        "colab_type": "text"
      },
      "source": [
        "<a href=\"https://colab.research.google.com/github/akash1331/nlp/blob/main/Week1/Prgm1_Exploring_NLTK.ipynb\" target=\"_parent\"><img src=\"https://colab.research.google.com/assets/colab-badge.svg\" alt=\"Open In Colab\"/></a>"
      ]
    },
    {
      "cell_type": "markdown",
      "source": [
        "**Open the Text File for Processing**"
      ],
      "metadata": {
        "id": "uWMSLKxqZmVB"
      }
    },
    {
      "cell_type": "code",
      "execution_count": 1,
      "metadata": {
        "colab": {
          "base_uri": "https://localhost:8080/"
        },
        "id": "EtxN3KW0YOKw",
        "outputId": "c833ec17-9ed7-4590-bd5f-a5cec4e3f8e2"
      },
      "outputs": [
        {
          "output_type": "stream",
          "name": "stdout",
          "text": [
            "<class 'str'>\n",
            "\n",
            "\n",
            "Computers and machines are great at working with tabular data or spreadsheets. \n",
            "However, as human beings generally communicate in words and sentences, not in the form of tables. \n",
            "Much information that humans speak or write is unstructured. So it is not very clear for computers to interpret such. \n",
            "In natural language processing (NLP), the goal is to make computers understand the unstructured text and retrieve meaningful pieces of information from it.\n",
            "Natural language Processing (NLP) is a subfield of artificial intelligence, \n",
            "in which its depth involves the interactions between computers and humans.\n",
            "\n",
            "\n",
            "605\n"
          ]
        }
      ],
      "source": [
        "text_file = open (\"Natural Language Processing_text.txt\")\n",
        "text = text_file.read()\n",
        "print(type(text))\n",
        "print(\"\\n\")\n",
        "print(text)\n",
        "print(\"\\n\")\n",
        "print(len(text))\n",
        "\n"
      ]
    },
    {
      "cell_type": "markdown",
      "source": [
        "**Import Required Libraries**"
      ],
      "metadata": {
        "id": "fZkSyaglbGB5"
      }
    },
    {
      "cell_type": "code",
      "source": [
        "import nltk\n",
        "nltk.download('punkt')\n",
        "from nltk import sent_tokenize\n",
        "from nltk import word_tokenize"
      ],
      "metadata": {
        "colab": {
          "base_uri": "https://localhost:8080/"
        },
        "id": "8kMwV0qNa_hp",
        "outputId": "8c3836e7-077f-4664-9ab5-67d3d8d083cc"
      },
      "execution_count": 2,
      "outputs": [
        {
          "output_type": "stream",
          "name": "stderr",
          "text": [
            "[nltk_data] Downloading package punkt to /root/nltk_data...\n",
            "[nltk_data]   Unzipping tokenizers/punkt.zip.\n"
          ]
        }
      ]
    },
    {
      "cell_type": "markdown",
      "source": [
        "Sentence Tokenizing"
      ],
      "metadata": {
        "id": "r5vjqN7jbUnI"
      }
    },
    {
      "cell_type": "code",
      "source": [
        "sentences = sent_tokenize(text)\n",
        "print(len(sentences))\n",
        "sentences"
      ],
      "metadata": {
        "colab": {
          "base_uri": "https://localhost:8080/"
        },
        "id": "rHbgS2HPbX7o",
        "outputId": "37859010-6601-4aa9-db30-a891ff269958"
      },
      "execution_count": 3,
      "outputs": [
        {
          "output_type": "stream",
          "name": "stdout",
          "text": [
            "6\n"
          ]
        },
        {
          "output_type": "execute_result",
          "data": {
            "text/plain": [
              "['Computers and machines are great at working with tabular data or spreadsheets.',\n",
              " 'However, as human beings generally communicate in words and sentences, not in the form of tables.',\n",
              " 'Much information that humans speak or write is unstructured.',\n",
              " 'So it is not very clear for computers to interpret such.',\n",
              " 'In natural language processing (NLP), the goal is to make computers understand the unstructured text and retrieve meaningful pieces of information from it.',\n",
              " 'Natural language Processing (NLP) is a subfield of artificial intelligence, \\nin which its depth involves the interactions between computers and humans.']"
            ]
          },
          "metadata": {},
          "execution_count": 3
        }
      ]
    },
    {
      "cell_type": "markdown",
      "source": [
        "Word Tokenizing"
      ],
      "metadata": {
        "id": "oyUd1X9Bb5Jx"
      }
    },
    {
      "cell_type": "code",
      "source": [
        "words = word_tokenize(text)\n",
        "print(len(words))\n",
        "print (words)"
      ],
      "metadata": {
        "colab": {
          "base_uri": "https://localhost:8080/"
        },
        "id": "mNIYEAH-beR0",
        "outputId": "06716494-9c41-4677-8f28-66d5ac7f8551"
      },
      "execution_count": 4,
      "outputs": [
        {
          "output_type": "stream",
          "name": "stdout",
          "text": [
            "106\n",
            "['Computers', 'and', 'machines', 'are', 'great', 'at', 'working', 'with', 'tabular', 'data', 'or', 'spreadsheets', '.', 'However', ',', 'as', 'human', 'beings', 'generally', 'communicate', 'in', 'words', 'and', 'sentences', ',', 'not', 'in', 'the', 'form', 'of', 'tables', '.', 'Much', 'information', 'that', 'humans', 'speak', 'or', 'write', 'is', 'unstructured', '.', 'So', 'it', 'is', 'not', 'very', 'clear', 'for', 'computers', 'to', 'interpret', 'such', '.', 'In', 'natural', 'language', 'processing', '(', 'NLP', ')', ',', 'the', 'goal', 'is', 'to', 'make', 'computers', 'understand', 'the', 'unstructured', 'text', 'and', 'retrieve', 'meaningful', 'pieces', 'of', 'information', 'from', 'it', '.', 'Natural', 'language', 'Processing', '(', 'NLP', ')', 'is', 'a', 'subfield', 'of', 'artificial', 'intelligence', ',', 'in', 'which', 'its', 'depth', 'involves', 'the', 'interactions', 'between', 'computers', 'and', 'humans', '.']\n"
          ]
        }
      ]
    },
    {
      "cell_type": "markdown",
      "source": [
        "Find the Frequency Distribution"
      ],
      "metadata": {
        "id": "HKzRtUa1csH5"
      }
    },
    {
      "cell_type": "code",
      "source": [
        "from nltk.probability import FreqDist\n",
        "fDist = FreqDist(words)\n",
        "fDist.most_common(10)"
      ],
      "metadata": {
        "colab": {
          "base_uri": "https://localhost:8080/"
        },
        "id": "pDw3jMPkcLuB",
        "outputId": "c57e0cae-3caf-4ce9-87a2-cf37c8bb3877"
      },
      "execution_count": 5,
      "outputs": [
        {
          "output_type": "execute_result",
          "data": {
            "text/plain": [
              "[('.', 6),\n",
              " ('and', 4),\n",
              " (',', 4),\n",
              " ('the', 4),\n",
              " ('is', 4),\n",
              " ('in', 3),\n",
              " ('of', 3),\n",
              " ('computers', 3),\n",
              " ('or', 2),\n",
              " ('not', 2)]"
            ]
          },
          "metadata": {},
          "execution_count": 5
        }
      ]
    },
    {
      "cell_type": "markdown",
      "source": [
        "Plot the Frequency Graph"
      ],
      "metadata": {
        "id": "acTEfw9pcwNo"
      }
    },
    {
      "cell_type": "code",
      "source": [
        "import matplotlib.pyplot as plt\n",
        "fDist.plot(10)"
      ],
      "metadata": {
        "colab": {
          "base_uri": "https://localhost:8080/",
          "height": 339
        },
        "id": "1RMlOk3DcqBQ",
        "outputId": "98159898-ff65-49ed-f7a1-3e99314ab00c"
      },
      "execution_count": 6,
      "outputs": [
        {
          "output_type": "display_data",
          "data": {
            "text/plain": [
              "<Figure size 432x288 with 1 Axes>"
            ],
            "image/png": "[encoded data removed]"
          },
          "metadata": {
            "needs_background": "light"
          }
        },
        {
          "output_type": "execute_result",
          "data": {
            "text/plain": [
              "<matplotlib.axes._subplots.AxesSubplot at 0x7fdef7365700>"
            ]
          },
          "metadata": {},
          "execution_count": 6
        }
      ]
    },
    {
      "cell_type": "markdown",
      "source": [
        "Remove Punctuation **Marks** \n"
      ],
      "metadata": {
        "id": "5E5aXm-Mdb1I"
      }
    },
    {
      "cell_type": "code",
      "source": [
        "words_no_punc = []\n",
        "for w in words:\n",
        "  if w.isalpha():\n",
        "    words_no_punc.append(w.lower())\n",
        "print (words_no_punc)\n",
        "print(\"\\n\")\n",
        "print(len(words_no_punc))\n"
      ],
      "metadata": {
        "colab": {
          "base_uri": "https://localhost:8080/"
        },
        "id": "JZDa8LF3dnSu",
        "outputId": "a2fc9632-31f9-4a4c-cc65-1062d1f6f2a9"
      },
      "execution_count": 7,
      "outputs": [
        {
          "output_type": "stream",
          "name": "stdout",
          "text": [
            "['computers', 'and', 'machines', 'are', 'great', 'at', 'working', 'with', 'tabular', 'data', 'or', 'spreadsheets', 'however', 'as', 'human', 'beings', 'generally', 'communicate', 'in', 'words', 'and', 'sentences', 'not', 'in', 'the', 'form', 'of', 'tables', 'much', 'information', 'that', 'humans', 'speak', 'or', 'write', 'is', 'unstructured', 'so', 'it', 'is', 'not', 'very', 'clear', 'for', 'computers', 'to', 'interpret', 'such', 'in', 'natural', 'language', 'processing', 'nlp', 'the', 'goal', 'is', 'to', 'make', 'computers', 'understand', 'the', 'unstructured', 'text', 'and', 'retrieve', 'meaningful', 'pieces', 'of', 'information', 'from', 'it', 'natural', 'language', 'processing', 'nlp', 'is', 'a', 'subfield', 'of', 'artificial', 'intelligence', 'in', 'which', 'its', 'depth', 'involves', 'the', 'interactions', 'between', 'computers', 'and', 'humans']\n",
            "\n",
            "\n",
            "92\n"
          ]
        }
      ]
    },
    {
      "cell_type": "markdown",
      "source": [
        "Plotting Graph without Punctuation **Marks**"
      ],
      "metadata": {
        "id": "_8Lo85dueG0Z"
      }
    },
    {
      "cell_type": "code",
      "source": [
        "fDist = FreqDist(words_no_punc)\n",
        "fDist.most_common(10)"
      ],
      "metadata": {
        "colab": {
          "base_uri": "https://localhost:8080/"
        },
        "id": "_NzGaMyVeQ98",
        "outputId": "7b7781bc-6a43-43b9-b207-ea8e7f5478ed"
      },
      "execution_count": 8,
      "outputs": [
        {
          "output_type": "execute_result",
          "data": {
            "text/plain": [
              "[('computers', 4),\n",
              " ('and', 4),\n",
              " ('in', 4),\n",
              " ('the', 4),\n",
              " ('is', 4),\n",
              " ('of', 3),\n",
              " ('or', 2),\n",
              " ('not', 2),\n",
              " ('information', 2),\n",
              " ('humans', 2)]"
            ]
          },
          "metadata": {},
          "execution_count": 8
        }
      ]
    },
    {
      "cell_type": "code",
      "source": [
        "fDist.plot(10)"
      ],
      "metadata": {
        "colab": {
          "base_uri": "https://localhost:8080/",
          "height": 344
        },
        "id": "eB60a_TEedlO",
        "outputId": "e1412de2-71d5-48bc-ed3d-387dbcf564e9"
      },
      "execution_count": 9,
      "outputs": [
        {
          "output_type": "display_data",
          "data": {
            "text/plain": [
              "<Figure size 432x288 with 1 Axes>"
            ],
            "image/png": "[encoded data removed]"
          },
          "metadata": {
            "needs_background": "light"
          }
        },
        {
          "output_type": "execute_result",
          "data": {
            "text/plain": [
              "<matplotlib.axes._subplots.AxesSubplot at 0x7fdef7149d90>"
            ]
          },
          "metadata": {},
          "execution_count": 9
        }
      ]
    },
    {
      "cell_type": "markdown",
      "source": [
        "**List of stopwords and Removing Stop Words**"
      ],
      "metadata": {
        "id": "Cakr1LpuepQC"
      }
    },
    {
      "cell_type": "code",
      "source": [
        "import nltk\n",
        "nltk.download('stopwords')\n",
        "from nltk.corpus import stopwords"
      ],
      "metadata": {
        "id": "qOZZ6LOLa-Uj",
        "outputId": "ae5bea9a-20d1-44fb-9338-f4854e5f304d",
        "colab": {
          "base_uri": "https://localhost:8080/"
        }
      },
      "execution_count": 13,
      "outputs": [
        {
          "output_type": "stream",
          "name": "stderr",
          "text": [
            "[nltk_data] Downloading package stopwords to /root/nltk_data...\n",
            "[nltk_data]   Package stopwords is already up-to-date!\n"
          ]
        }
      ]
    },
    {
      "cell_type": "code",
      "source": [
        "stopwords=stopwords.words(\"english\")\n",
        "print (stopwords)\n",
        "\n",
        "\n",
        "clean_words = []\n",
        "for w in words_no_punc:\n",
        "  if w not in stopwords:\n",
        "    clean_words.append(w)\n",
        "print(clean_words)\n",
        "print(\"\\n\")\n",
        "print(len(clean_words))\n"
      ],
      "metadata": {
        "colab": {
          "base_uri": "https://localhost:8080/"
        },
        "id": "2QL-CZZIerRY",
        "outputId": "8d051eaf-a462-4dcc-9301-a9b126521e32"
      },
      "execution_count": 14,
      "outputs": [
        {
          "output_type": "stream",
          "name": "stdout",
          "text": [
            "['i', 'me', 'my', 'myself', 'we', 'our', 'ours', 'ourselves', 'you', \"you're\", \"you've\", \"you'll\", \"you'd\", 'your', 'yours', 'yourself', 'yourselves', 'he', 'him', 'his', 'himself', 'she', \"she's\", 'her', 'hers', 'herself', 'it', \"it's\", 'its', 'itself', 'they', 'them', 'their', 'theirs', 'themselves', 'what', 'which', 'who', 'whom', 'this', 'that', \"that'll\", 'these', 'those', 'am', 'is', 'are', 'was', 'were', 'be', 'been', 'being', 'have', 'has', 'had', 'having', 'do', 'does', 'did', 'doing', 'a', 'an', 'the', 'and', 'but', 'if', 'or', 'because', 'as', 'until', 'while', 'of', 'at', 'by', 'for', 'with', 'about', 'against', 'between', 'into', 'through', 'during', 'before', 'after', 'above', 'below', 'to', 'from', 'up', 'down', 'in', 'out', 'on', 'off', 'over', 'under', 'again', 'further', 'then', 'once', 'here', 'there', 'when', 'where', 'why', 'how', 'all', 'any', 'both', 'each', 'few', 'more', 'most', 'other', 'some', 'such', 'no', 'nor', 'not', 'only', 'own', 'same', 'so', 'than', 'too', 'very', 's', 't', 'can', 'will', 'just', 'don', \"don't\", 'should', \"should've\", 'now', 'd', 'll', 'm', 'o', 're', 've', 'y', 'ain', 'aren', \"aren't\", 'couldn', \"couldn't\", 'didn', \"didn't\", 'doesn', \"doesn't\", 'hadn', \"hadn't\", 'hasn', \"hasn't\", 'haven', \"haven't\", 'isn', \"isn't\", 'ma', 'mightn', \"mightn't\", 'mustn', \"mustn't\", 'needn', \"needn't\", 'shan', \"shan't\", 'shouldn', \"shouldn't\", 'wasn', \"wasn't\", 'weren', \"weren't\", 'won', \"won't\", 'wouldn', \"wouldn't\"]\n",
            "['computers', 'machines', 'great', 'working', 'tabular', 'data', 'spreadsheets', 'however', 'human', 'beings', 'generally', 'communicate', 'words', 'sentences', 'form', 'tables', 'much', 'information', 'humans', 'speak', 'write', 'unstructured', 'clear', 'computers', 'interpret', 'natural', 'language', 'processing', 'nlp', 'goal', 'make', 'computers', 'understand', 'unstructured', 'text', 'retrieve', 'meaningful', 'pieces', 'information', 'natural', 'language', 'processing', 'nlp', 'subfield', 'artificial', 'intelligence', 'depth', 'involves', 'interactions', 'computers', 'humans']\n",
            "\n",
            "\n",
            "51\n"
          ]
        }
      ]
    },
    {
      "cell_type": "markdown",
      "source": [
        "**Final Frequency Distribution**"
      ],
      "metadata": {
        "id": "nODW3evmsWot"
      }
    },
    {
      "cell_type": "code",
      "source": [
        "fDist = FreqDist(clean_words)\n",
        "fDist.most_common(10)\n"
      ],
      "metadata": {
        "colab": {
          "base_uri": "https://localhost:8080/"
        },
        "id": "g3gNX1-rfxGZ",
        "outputId": "50d11e64-b738-4cf3-8abf-916ea4f2031d"
      },
      "execution_count": 15,
      "outputs": [
        {
          "output_type": "execute_result",
          "data": {
            "text/plain": [
              "[('computers', 4),\n",
              " ('information', 2),\n",
              " ('humans', 2),\n",
              " ('unstructured', 2),\n",
              " ('natural', 2),\n",
              " ('language', 2),\n",
              " ('processing', 2),\n",
              " ('nlp', 2),\n",
              " ('machines', 1),\n",
              " ('great', 1)]"
            ]
          },
          "metadata": {},
          "execution_count": 15
        }
      ]
    },
    {
      "cell_type": "code",
      "source": [
        "fDist.plot(10)"
      ],
      "metadata": {
        "colab": {
          "base_uri": "https://localhost:8080/",
          "height": 351
        },
        "id": "VMTlppzhgCaQ",
        "outputId": "fa1d007c-3a3b-4aa8-c61b-97184426bea2"
      },
      "execution_count": 16,
      "outputs": [
        {
          "output_type": "display_data",
          "data": {
            "text/plain": [
              "<Figure size 432x288 with 1 Axes>"
            ],
            "image/png": "[encoded data removed]"
          },
          "metadata": {
            "needs_background": "light"
          }
        },
        {
          "output_type": "execute_result",
          "data": {
            "text/plain": [
              "<matplotlib.axes._subplots.AxesSubplot at 0x7fdef6c42e50>"
            ]
          },
          "metadata": {},
          "execution_count": 16
        }
      ]
    },
    {
      "cell_type": "markdown",
      "source": [
        "**Edited by Srilakshmi V**"
      ],
      "metadata": {
        "id": "0UwqQkPIgFnG"
      }
    }
  ]
}